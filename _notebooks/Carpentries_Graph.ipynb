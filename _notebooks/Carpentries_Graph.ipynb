{
 "cells": [
  {
   "cell_type": "code",
   "execution_count": 1,
   "metadata": {},
   "outputs": [
    {
     "name": "stderr",
     "output_type": "stream",
     "text": [
      "── Attaching packages ─────────────────────────────────────── tidyverse 1.2.1 ──\n",
      "✔ ggplot2 2.2.1     ✔ purrr   0.2.4\n",
      "✔ tibble  1.3.4     ✔ dplyr   0.7.4\n",
      "✔ tidyr   0.7.2     ✔ stringr 1.2.0\n",
      "✔ readr   1.1.1     ✔ forcats 0.2.0\n",
      "── Conflicts ────────────────────────────────────────── tidyverse_conflicts() ──\n",
      "✖ dplyr::filter() masks stats::filter()\n",
      "✖ dplyr::lag()    masks stats::lag()\n"
     ]
    }
   ],
   "source": [
    "library(tidyverse)"
   ]
  },
  {
   "cell_type": "code",
   "execution_count": null,
   "metadata": {
    "collapsed": true
   },
   "outputs": [],
   "source": []
  },
  {
   "cell_type": "code",
   "execution_count": 2,
   "metadata": {},
   "outputs": [
    {
     "data": {
      "text/html": [
       "<table>\n",
       "<thead><tr><th scope=col>Date</th><th scope=col>Carpentry</th><th scope=col>Helper</th><th scope=col>Instructor</th><th scope=col>Organizer.Instructor</th><th scope=col>Organizer</th><th scope=col>URL</th></tr></thead>\n",
       "<tbody>\n",
       "\t<tr><td>2014-05-08                                      </td><td>Data                                            </td><td>1                                               </td><td>0                                               </td><td>0                                               </td><td>0                                               </td><td>NESCENT                                         </td></tr>\n",
       "\t<tr><td>2014-09-29                                      </td><td>Data                                            </td><td>0                                               </td><td>1                                               </td><td>0                                               </td><td>0                                               </td><td>http://www.datacarpentry.org/2014-09-29-iDigBio/</td></tr>\n",
       "\t<tr><td>2015-04-02                                      </td><td>Software                                        </td><td>0                                               </td><td>1                                               </td><td>0                                               </td><td>0                                               </td><td>https://xuf12.github.io/2015-04-02-umiami/      </td></tr>\n",
       "</tbody>\n",
       "</table>\n"
      ],
      "text/latex": [
       "\\begin{tabular}{r|lllllll}\n",
       " Date & Carpentry & Helper & Instructor & Organizer.Instructor & Organizer & URL\\\\\n",
       "\\hline\n",
       "\t 2014-05-08                                       & Data                                             & 1                                                & 0                                                & 0                                                & 0                                                & NESCENT                                         \\\\\n",
       "\t 2014-09-29                                       & Data                                             & 0                                                & 1                                                & 0                                                & 0                                                & http://www.datacarpentry.org/2014-09-29-iDigBio/\\\\\n",
       "\t 2015-04-02                                       & Software                                         & 0                                                & 1                                                & 0                                                & 0                                                & https://xuf12.github.io/2015-04-02-umiami/      \\\\\n",
       "\\end{tabular}\n"
      ],
      "text/markdown": [
       "\n",
       "Date | Carpentry | Helper | Instructor | Organizer.Instructor | Organizer | URL | \n",
       "|---|---|---|\n",
       "| 2014-05-08                                       | Data                                             | 1                                                | 0                                                | 0                                                | 0                                                | NESCENT                                          | \n",
       "| 2014-09-29                                       | Data                                             | 0                                                | 1                                                | 0                                                | 0                                                | http://www.datacarpentry.org/2014-09-29-iDigBio/ | \n",
       "| 2015-04-02                                       | Software                                         | 0                                                | 1                                                | 0                                                | 0                                                | https://xuf12.github.io/2015-04-02-umiami/       | \n",
       "\n",
       "\n"
      ],
      "text/plain": [
       "  Date       Carpentry Helper Instructor Organizer.Instructor Organizer\n",
       "1 2014-05-08 Data      1      0          0                    0        \n",
       "2 2014-09-29 Data      0      1          0                    0        \n",
       "3 2015-04-02 Software  0      1          0                    0        \n",
       "  URL                                             \n",
       "1 NESCENT                                         \n",
       "2 http://www.datacarpentry.org/2014-09-29-iDigBio/\n",
       "3 https://xuf12.github.io/2015-04-02-umiami/      "
      ]
     },
     "metadata": {},
     "output_type": "display_data"
    }
   ],
   "source": [
    "activity = read.csv(\"../_data/carp_activity.csv\", header=TRUE, stringsAsFactors=FALSE)\n",
    "head(activity, 3)"
   ]
  },
  {
   "cell_type": "code",
   "execution_count": null,
   "metadata": {
    "collapsed": true
   },
   "outputs": [],
   "source": []
  },
  {
   "cell_type": "code",
   "execution_count": 3,
   "metadata": {
    "collapsed": true
   },
   "outputs": [],
   "source": [
    "#activity$helper_cs = cumsum(activity$helper)\n",
    "#activity$instructor_cs = cumsum(activity$instructor)\n",
    "#activity$org_inst_cs = cumsum(activity$org_inst)\n",
    "#activity$organizer_cs = cumsum(activity$organizer)"
   ]
  },
  {
   "cell_type": "code",
   "execution_count": 52,
   "metadata": {},
   "outputs": [
    {
     "data": {
      "text/html": [
       "<table>\n",
       "<thead><tr><th scope=col>Date</th><th scope=col>Type</th><th scope=col>Helper</th><th scope=col>Instructor</th><th scope=col>Organizer_Instructor</th><th scope=col>Organizer</th></tr></thead>\n",
       "<tbody>\n",
       "\t<tr><td>2014-05-08</td><td>Data      </td><td>1         </td><td>0         </td><td>0         </td><td>0         </td></tr>\n",
       "\t<tr><td>2014-09-29</td><td>Data      </td><td>1         </td><td>1         </td><td>0         </td><td>0         </td></tr>\n",
       "\t<tr><td>2015-04-02</td><td>Software  </td><td>1         </td><td>2         </td><td>0         </td><td>0         </td></tr>\n",
       "\t<tr><td>2015-05-04</td><td>Software  </td><td>1         </td><td>3         </td><td>0         </td><td>0         </td></tr>\n",
       "\t<tr><td>2015-09-23</td><td>Data      </td><td>1         </td><td>4         </td><td>0         </td><td>0         </td></tr>\n",
       "</tbody>\n",
       "</table>\n"
      ],
      "text/latex": [
       "\\begin{tabular}{r|llllll}\n",
       " Date & Type & Helper & Instructor & Organizer\\_Instructor & Organizer\\\\\n",
       "\\hline\n",
       "\t 2014-05-08 & Data       & 1          & 0          & 0          & 0         \\\\\n",
       "\t 2014-09-29 & Data       & 1          & 1          & 0          & 0         \\\\\n",
       "\t 2015-04-02 & Software   & 1          & 2          & 0          & 0         \\\\\n",
       "\t 2015-05-04 & Software   & 1          & 3          & 0          & 0         \\\\\n",
       "\t 2015-09-23 & Data       & 1          & 4          & 0          & 0         \\\\\n",
       "\\end{tabular}\n"
      ],
      "text/markdown": [
       "\n",
       "Date | Type | Helper | Instructor | Organizer_Instructor | Organizer | \n",
       "|---|---|---|---|---|\n",
       "| 2014-05-08 | Data       | 1          | 0          | 0          | 0          | \n",
       "| 2014-09-29 | Data       | 1          | 1          | 0          | 0          | \n",
       "| 2015-04-02 | Software   | 1          | 2          | 0          | 0          | \n",
       "| 2015-05-04 | Software   | 1          | 3          | 0          | 0          | \n",
       "| 2015-09-23 | Data       | 1          | 4          | 0          | 0          | \n",
       "\n",
       "\n"
      ],
      "text/plain": [
       "  Date       Type     Helper Instructor Organizer_Instructor Organizer\n",
       "1 2014-05-08 Data     1      0          0                    0        \n",
       "2 2014-09-29 Data     1      1          0                    0        \n",
       "3 2015-04-02 Software 1      2          0                    0        \n",
       "4 2015-05-04 Software 1      3          0                    0        \n",
       "5 2015-09-23 Data     1      4          0                    0        "
      ]
     },
     "metadata": {},
     "output_type": "display_data"
    }
   ],
   "source": [
    "cumulative_activity = data.frame(Date=as.Date(activity$Date), \n",
    "                                Type=activity$Carpentry, \n",
    "                                Helper=cumsum(activity$Helper),\n",
    "                                Instructor=cumsum(activity$Instructor),\n",
    "                                Organizer_Instructor=cumsum(activity$Organizer.Instructor),\n",
    "                                Organizer=cumsum(activity$Organizer)\n",
    "                                )\n",
    "head(cumulative_activity, 5)"
   ]
  },
  {
   "cell_type": "code",
   "execution_count": 5,
   "metadata": {},
   "outputs": [
    {
     "data": {
      "text/html": [
       "<table>\n",
       "<thead><tr><th></th><th scope=col>Date</th><th scope=col>Type</th><th scope=col>Role</th><th scope=col>Total</th></tr></thead>\n",
       "<tbody>\n",
       "\t<tr><th scope=row>52</th><td>2017-06-29          </td><td>Data                </td><td>Organizer_Instructor</td><td>3                   </td></tr>\n",
       "\t<tr><th scope=row>53</th><td>2017-08-14          </td><td>Software            </td><td>Organizer_Instructor</td><td>4                   </td></tr>\n",
       "\t<tr><th scope=row>54</th><td>2017-08-15          </td><td>Data                </td><td>Organizer_Instructor</td><td>4                   </td></tr>\n",
       "\t<tr><th scope=row>55</th><td>2017-09-30          </td><td>Data                </td><td>Organizer_Instructor</td><td>5                   </td></tr>\n",
       "\t<tr><th scope=row>56</th><td>2017-10-30          </td><td>Data                </td><td>Organizer_Instructor</td><td>5                   </td></tr>\n",
       "\t<tr><th scope=row>57</th><td>2018-01-22          </td><td>Software            </td><td>Organizer_Instructor</td><td>6                   </td></tr>\n",
       "\t<tr><th scope=row>58</th><td>2014-05-08          </td><td>Data                </td><td>Organizer           </td><td>0                   </td></tr>\n",
       "\t<tr><th scope=row>59</th><td>2014-09-29          </td><td>Data                </td><td>Organizer           </td><td>0                   </td></tr>\n",
       "\t<tr><th scope=row>60</th><td>2015-04-02          </td><td>Software            </td><td>Organizer           </td><td>0                   </td></tr>\n",
       "\t<tr><th scope=row>61</th><td>2015-05-04          </td><td>Software            </td><td>Organizer           </td><td>0                   </td></tr>\n",
       "\t<tr><th scope=row>62</th><td>2015-09-23          </td><td>Data                </td><td>Organizer           </td><td>0                   </td></tr>\n",
       "\t<tr><th scope=row>63</th><td>2016-01-21          </td><td>Instructor          </td><td>Organizer           </td><td>0                   </td></tr>\n",
       "\t<tr><th scope=row>64</th><td>2016-03-24          </td><td>Software            </td><td>Organizer           </td><td>0                   </td></tr>\n",
       "\t<tr><th scope=row>65</th><td>2016-08-17          </td><td>Software            </td><td>Organizer           </td><td>0                   </td></tr>\n",
       "\t<tr><th scope=row>66</th><td>2016-10-17          </td><td>Data                </td><td>Organizer           </td><td>1                   </td></tr>\n",
       "\t<tr><th scope=row>67</th><td>2016-12-03          </td><td>Software            </td><td>Organizer           </td><td>1                   </td></tr>\n",
       "\t<tr><th scope=row>68</th><td>2017-02-06          </td><td>Software            </td><td>Organizer           </td><td>1                   </td></tr>\n",
       "\t<tr><th scope=row>69</th><td>2017-05-22          </td><td>Instructor          </td><td>Organizer           </td><td>1                   </td></tr>\n",
       "\t<tr><th scope=row>70</th><td>2017-05-25          </td><td>Software            </td><td>Organizer           </td><td>2                   </td></tr>\n",
       "\t<tr><th scope=row>71</th><td>2017-06-29          </td><td>Data                </td><td>Organizer           </td><td>2                   </td></tr>\n",
       "\t<tr><th scope=row>72</th><td>2017-08-14          </td><td>Software            </td><td>Organizer           </td><td>2                   </td></tr>\n",
       "\t<tr><th scope=row>73</th><td>2017-08-15          </td><td>Data                </td><td>Organizer           </td><td>3                   </td></tr>\n",
       "\t<tr><th scope=row>74</th><td>2017-09-30          </td><td>Data                </td><td>Organizer           </td><td>3                   </td></tr>\n",
       "\t<tr><th scope=row>75</th><td>2017-10-30          </td><td>Data                </td><td>Organizer           </td><td>4                   </td></tr>\n",
       "\t<tr><th scope=row>76</th><td>2018-01-22          </td><td>Software            </td><td>Organizer           </td><td>4                   </td></tr>\n",
       "</tbody>\n",
       "</table>\n"
      ],
      "text/latex": [
       "\\begin{tabular}{r|llll}\n",
       "  & Date & Type & Role & Total\\\\\n",
       "\\hline\n",
       "\t52 & 2017-06-29             & Data                   & Organizer\\_Instructor & 3                     \\\\\n",
       "\t53 & 2017-08-14             & Software               & Organizer\\_Instructor & 4                     \\\\\n",
       "\t54 & 2017-08-15             & Data                   & Organizer\\_Instructor & 4                     \\\\\n",
       "\t55 & 2017-09-30             & Data                   & Organizer\\_Instructor & 5                     \\\\\n",
       "\t56 & 2017-10-30             & Data                   & Organizer\\_Instructor & 5                     \\\\\n",
       "\t57 & 2018-01-22             & Software               & Organizer\\_Instructor & 6                     \\\\\n",
       "\t58 & 2014-05-08           & Data                 & Organizer            & 0                   \\\\\n",
       "\t59 & 2014-09-29           & Data                 & Organizer            & 0                   \\\\\n",
       "\t60 & 2015-04-02           & Software             & Organizer            & 0                   \\\\\n",
       "\t61 & 2015-05-04           & Software             & Organizer            & 0                   \\\\\n",
       "\t62 & 2015-09-23           & Data                 & Organizer            & 0                   \\\\\n",
       "\t63 & 2016-01-21           & Instructor           & Organizer            & 0                   \\\\\n",
       "\t64 & 2016-03-24           & Software             & Organizer            & 0                   \\\\\n",
       "\t65 & 2016-08-17           & Software             & Organizer            & 0                   \\\\\n",
       "\t66 & 2016-10-17           & Data                 & Organizer            & 1                   \\\\\n",
       "\t67 & 2016-12-03           & Software             & Organizer            & 1                   \\\\\n",
       "\t68 & 2017-02-06           & Software             & Organizer            & 1                   \\\\\n",
       "\t69 & 2017-05-22           & Instructor           & Organizer            & 1                   \\\\\n",
       "\t70 & 2017-05-25           & Software             & Organizer            & 2                   \\\\\n",
       "\t71 & 2017-06-29           & Data                 & Organizer            & 2                   \\\\\n",
       "\t72 & 2017-08-14           & Software             & Organizer            & 2                   \\\\\n",
       "\t73 & 2017-08-15           & Data                 & Organizer            & 3                   \\\\\n",
       "\t74 & 2017-09-30           & Data                 & Organizer            & 3                   \\\\\n",
       "\t75 & 2017-10-30           & Data                 & Organizer            & 4                   \\\\\n",
       "\t76 & 2018-01-22           & Software             & Organizer            & 4                   \\\\\n",
       "\\end{tabular}\n"
      ],
      "text/markdown": [
       "\n",
       "| <!--/--> | Date | Type | Role | Total | \n",
       "|---|---|---|---|---|---|---|---|---|---|---|---|---|---|---|---|---|---|---|---|---|---|---|---|---|\n",
       "| 52 | 2017-06-29           | Data                 | Organizer_Instructor | 3                    | \n",
       "| 53 | 2017-08-14           | Software             | Organizer_Instructor | 4                    | \n",
       "| 54 | 2017-08-15           | Data                 | Organizer_Instructor | 4                    | \n",
       "| 55 | 2017-09-30           | Data                 | Organizer_Instructor | 5                    | \n",
       "| 56 | 2017-10-30           | Data                 | Organizer_Instructor | 5                    | \n",
       "| 57 | 2018-01-22           | Software             | Organizer_Instructor | 6                    | \n",
       "| 58 | 2014-05-08           | Data                 | Organizer            | 0                    | \n",
       "| 59 | 2014-09-29           | Data                 | Organizer            | 0                    | \n",
       "| 60 | 2015-04-02           | Software             | Organizer            | 0                    | \n",
       "| 61 | 2015-05-04           | Software             | Organizer            | 0                    | \n",
       "| 62 | 2015-09-23           | Data                 | Organizer            | 0                    | \n",
       "| 63 | 2016-01-21           | Instructor           | Organizer            | 0                    | \n",
       "| 64 | 2016-03-24           | Software             | Organizer            | 0                    | \n",
       "| 65 | 2016-08-17           | Software             | Organizer            | 0                    | \n",
       "| 66 | 2016-10-17           | Data                 | Organizer            | 1                    | \n",
       "| 67 | 2016-12-03           | Software             | Organizer            | 1                    | \n",
       "| 68 | 2017-02-06           | Software             | Organizer            | 1                    | \n",
       "| 69 | 2017-05-22           | Instructor           | Organizer            | 1                    | \n",
       "| 70 | 2017-05-25           | Software             | Organizer            | 2                    | \n",
       "| 71 | 2017-06-29           | Data                 | Organizer            | 2                    | \n",
       "| 72 | 2017-08-14           | Software             | Organizer            | 2                    | \n",
       "| 73 | 2017-08-15           | Data                 | Organizer            | 3                    | \n",
       "| 74 | 2017-09-30           | Data                 | Organizer            | 3                    | \n",
       "| 75 | 2017-10-30           | Data                 | Organizer            | 4                    | \n",
       "| 76 | 2018-01-22           | Software             | Organizer            | 4                    | \n",
       "\n",
       "\n"
      ],
      "text/plain": [
       "   Date       Type       Role                 Total\n",
       "52 2017-06-29 Data       Organizer_Instructor 3    \n",
       "53 2017-08-14 Software   Organizer_Instructor 4    \n",
       "54 2017-08-15 Data       Organizer_Instructor 4    \n",
       "55 2017-09-30 Data       Organizer_Instructor 5    \n",
       "56 2017-10-30 Data       Organizer_Instructor 5    \n",
       "57 2018-01-22 Software   Organizer_Instructor 6    \n",
       "58 2014-05-08 Data       Organizer            0    \n",
       "59 2014-09-29 Data       Organizer            0    \n",
       "60 2015-04-02 Software   Organizer            0    \n",
       "61 2015-05-04 Software   Organizer            0    \n",
       "62 2015-09-23 Data       Organizer            0    \n",
       "63 2016-01-21 Instructor Organizer            0    \n",
       "64 2016-03-24 Software   Organizer            0    \n",
       "65 2016-08-17 Software   Organizer            0    \n",
       "66 2016-10-17 Data       Organizer            1    \n",
       "67 2016-12-03 Software   Organizer            1    \n",
       "68 2017-02-06 Software   Organizer            1    \n",
       "69 2017-05-22 Instructor Organizer            1    \n",
       "70 2017-05-25 Software   Organizer            2    \n",
       "71 2017-06-29 Data       Organizer            2    \n",
       "72 2017-08-14 Software   Organizer            2    \n",
       "73 2017-08-15 Data       Organizer            3    \n",
       "74 2017-09-30 Data       Organizer            3    \n",
       "75 2017-10-30 Data       Organizer            4    \n",
       "76 2018-01-22 Software   Organizer            4    "
      ]
     },
     "metadata": {},
     "output_type": "display_data"
    }
   ],
   "source": [
    "activity_long = gather(cumulative_activity, Role, Total, Helper:Organizer)\n",
    "tail(activity_long, 25)"
   ]
  },
  {
   "cell_type": "code",
   "execution_count": 6,
   "metadata": {},
   "outputs": [
    {
     "name": "stdout",
     "output_type": "stream",
     "text": [
      "'data.frame':\t19 obs. of  6 variables:\n",
      " $ Date                : Date, format: \"2014-05-08\" \"2014-09-29\" ...\n",
      " $ Type                : Factor w/ 3 levels \"Data\",\"Instructor\",..: 1 1 3 3 1 2 3 3 1 3 ...\n",
      " $ Helper              : int  1 1 1 1 1 2 2 2 2 2 ...\n",
      " $ Instructor          : int  0 1 2 3 4 4 4 4 4 5 ...\n",
      " $ Organizer_Instructor: int  0 0 0 0 0 0 1 2 2 2 ...\n",
      " $ Organizer           : int  0 0 0 0 0 0 0 0 1 1 ...\n"
     ]
    }
   ],
   "source": [
    "str(cumulative_activity)"
   ]
  },
  {
   "cell_type": "code",
   "execution_count": 7,
   "metadata": {},
   "outputs": [
    {
     "name": "stdout",
     "output_type": "stream",
     "text": [
      "'data.frame':\t76 obs. of  4 variables:\n",
      " $ Date : Date, format: \"2014-05-08\" \"2014-09-29\" ...\n",
      " $ Type : Factor w/ 3 levels \"Data\",\"Instructor\",..: 1 1 3 3 1 2 3 3 1 3 ...\n",
      " $ Role : chr  \"Helper\" \"Helper\" \"Helper\" \"Helper\" ...\n",
      " $ Total: int  1 1 1 1 1 2 2 2 2 2 ...\n"
     ]
    }
   ],
   "source": [
    "str(activity_long)"
   ]
  },
  {
   "cell_type": "code",
   "execution_count": 8,
   "metadata": {},
   "outputs": [
    {
     "data": {
      "text/html": [
       "<ol class=list-inline>\n",
       "\t<li>141</li>\n",
       "\t<li>143</li>\n",
       "\t<li>144</li>\n",
       "\t<li>146</li>\n",
       "\t<li>148</li>\n",
       "\t<li>152</li>\n",
       "</ol>\n"
      ],
      "text/latex": [
       "\\begin{enumerate*}\n",
       "\\item 141\n",
       "\\item 143\n",
       "\\item 144\n",
       "\\item 146\n",
       "\\item 148\n",
       "\\item 152\n",
       "\\end{enumerate*}\n"
      ],
      "text/markdown": [
       "1. 141\n",
       "2. 143\n",
       "3. 144\n",
       "4. 146\n",
       "5. 148\n",
       "6. 152\n",
       "\n",
       "\n"
      ],
      "text/plain": [
       "[1] 141 143 144 146 148 152"
      ]
     },
     "metadata": {},
     "output_type": "display_data"
    }
   ],
   "source": [
    "activity_long$Role <- factor(activity_long$Role, \n",
    "                             levels=c(\"Organizer\", \"Organizer_Instructor\",\n",
    "                                      \"Instructor\", \"Helper\"))\n",
    "tail(order(activity_long))"
   ]
  },
  {
   "cell_type": "code",
   "execution_count": 60,
   "metadata": {},
   "outputs": [
    {
     "data": {
      "text/html": [
       "<table>\n",
       "<thead><tr><th scope=col>Date</th><th scope=col>Type</th><th scope=col>Role</th><th scope=col>Total</th></tr></thead>\n",
       "<tbody>\n",
       "\t<tr><td>2014-05-08          </td><td>Data                </td><td>Helper              </td><td>1                   </td></tr>\n",
       "\t<tr><td>2014-05-08          </td><td>Data                </td><td>Instructor          </td><td>0                   </td></tr>\n",
       "\t<tr><td>2014-05-08          </td><td>Data                </td><td>Organizer_Instructor</td><td>0                   </td></tr>\n",
       "\t<tr><td>2014-05-08          </td><td>Data                </td><td>Organizer           </td><td>0                   </td></tr>\n",
       "\t<tr><td>2014-09-29          </td><td>Data                </td><td>Helper              </td><td>1                   </td></tr>\n",
       "\t<tr><td>2014-09-29          </td><td>Data                </td><td>Instructor          </td><td>1                   </td></tr>\n",
       "\t<tr><td>2014-09-29          </td><td>Data                </td><td>Organizer_Instructor</td><td>0                   </td></tr>\n",
       "\t<tr><td>2014-09-29          </td><td>Data                </td><td>Organizer           </td><td>0                   </td></tr>\n",
       "\t<tr><td>2015-04-02          </td><td>Software            </td><td>Helper              </td><td>1                   </td></tr>\n",
       "\t<tr><td>2015-04-02          </td><td>Software            </td><td>Instructor          </td><td>2                   </td></tr>\n",
       "\t<tr><td>2015-04-02          </td><td>Software            </td><td>Organizer_Instructor</td><td>0                   </td></tr>\n",
       "\t<tr><td>2015-04-02          </td><td>Software            </td><td>Organizer           </td><td>0                   </td></tr>\n",
       "\t<tr><td>2015-05-04          </td><td>Software            </td><td>Helper              </td><td>1                   </td></tr>\n",
       "\t<tr><td>2015-05-04          </td><td>Software            </td><td>Instructor          </td><td>3                   </td></tr>\n",
       "\t<tr><td>2015-05-04          </td><td>Software            </td><td>Organizer_Instructor</td><td>0                   </td></tr>\n",
       "\t<tr><td>2015-05-04          </td><td>Software            </td><td>Organizer           </td><td>0                   </td></tr>\n",
       "\t<tr><td>2015-09-23          </td><td>Data                </td><td>Helper              </td><td>1                   </td></tr>\n",
       "\t<tr><td>2015-09-23          </td><td>Data                </td><td>Instructor          </td><td>4                   </td></tr>\n",
       "\t<tr><td>2015-09-23          </td><td>Data                </td><td>Organizer_Instructor</td><td>0                   </td></tr>\n",
       "\t<tr><td>2015-09-23          </td><td>Data                </td><td>Organizer           </td><td>0                   </td></tr>\n",
       "\t<tr><td>2016-01-21          </td><td>Instructor          </td><td>Helper              </td><td>2                   </td></tr>\n",
       "\t<tr><td>2016-01-21          </td><td>Instructor          </td><td>Instructor          </td><td>4                   </td></tr>\n",
       "\t<tr><td>2016-01-21          </td><td>Instructor          </td><td>Organizer_Instructor</td><td>0                   </td></tr>\n",
       "\t<tr><td>2016-01-21          </td><td>Instructor          </td><td>Organizer           </td><td>0                   </td></tr>\n",
       "\t<tr><td>2016-03-24          </td><td>Software            </td><td>Helper              </td><td>2                   </td></tr>\n",
       "\t<tr><td>2016-03-24          </td><td>Software            </td><td>Instructor          </td><td>4                   </td></tr>\n",
       "\t<tr><td>2016-03-24          </td><td>Software            </td><td>Organizer_Instructor</td><td>1                   </td></tr>\n",
       "\t<tr><td>2016-03-24          </td><td>Software            </td><td>Organizer           </td><td>0                   </td></tr>\n",
       "\t<tr><td>2016-08-17          </td><td>Software            </td><td>Helper              </td><td>2                   </td></tr>\n",
       "\t<tr><td>2016-08-17          </td><td>Software            </td><td>Instructor          </td><td>4                   </td></tr>\n",
       "\t<tr><td>⋮</td><td>⋮</td><td>⋮</td><td>⋮</td></tr>\n",
       "\t<tr><td>2017-05-22          </td><td>Instructor          </td><td>Organizer_Instructor</td><td>3                   </td></tr>\n",
       "\t<tr><td>2017-05-22          </td><td>Instructor          </td><td>Organizer           </td><td>1                   </td></tr>\n",
       "\t<tr><td>2017-05-25          </td><td>Software            </td><td>Helper              </td><td>3                   </td></tr>\n",
       "\t<tr><td>2017-05-25          </td><td>Software            </td><td>Instructor          </td><td>5                   </td></tr>\n",
       "\t<tr><td>2017-05-25          </td><td>Software            </td><td>Organizer_Instructor</td><td>3                   </td></tr>\n",
       "\t<tr><td>2017-05-25          </td><td>Software            </td><td>Organizer           </td><td>2                   </td></tr>\n",
       "\t<tr><td>2017-06-29          </td><td>Data                </td><td>Helper              </td><td>4                   </td></tr>\n",
       "\t<tr><td>2017-06-29          </td><td>Data                </td><td>Instructor          </td><td>5                   </td></tr>\n",
       "\t<tr><td>2017-06-29          </td><td>Data                </td><td>Organizer_Instructor</td><td>3                   </td></tr>\n",
       "\t<tr><td>2017-06-29          </td><td>Data                </td><td>Organizer           </td><td>2                   </td></tr>\n",
       "\t<tr><td>2017-08-14          </td><td>Software            </td><td>Helper              </td><td>4                   </td></tr>\n",
       "\t<tr><td>2017-08-14          </td><td>Software            </td><td>Instructor          </td><td>5                   </td></tr>\n",
       "\t<tr><td>2017-08-14          </td><td>Software            </td><td>Organizer_Instructor</td><td>4                   </td></tr>\n",
       "\t<tr><td>2017-08-14          </td><td>Software            </td><td>Organizer           </td><td>2                   </td></tr>\n",
       "\t<tr><td>2017-08-15          </td><td>Data                </td><td>Helper              </td><td>4                   </td></tr>\n",
       "\t<tr><td>2017-08-15          </td><td>Data                </td><td>Instructor          </td><td>5                   </td></tr>\n",
       "\t<tr><td>2017-08-15          </td><td>Data                </td><td>Organizer_Instructor</td><td>4                   </td></tr>\n",
       "\t<tr><td>2017-08-15          </td><td>Data                </td><td>Organizer           </td><td>3                   </td></tr>\n",
       "\t<tr><td>2017-09-30          </td><td>Data                </td><td>Helper              </td><td>4                   </td></tr>\n",
       "\t<tr><td>2017-09-30          </td><td>Data                </td><td>Instructor          </td><td>5                   </td></tr>\n",
       "\t<tr><td>2017-09-30          </td><td>Data                </td><td>Organizer_Instructor</td><td>5                   </td></tr>\n",
       "\t<tr><td>2017-09-30          </td><td>Data                </td><td>Organizer           </td><td>3                   </td></tr>\n",
       "\t<tr><td>2017-10-30          </td><td>Data                </td><td>Helper              </td><td>4                   </td></tr>\n",
       "\t<tr><td>2017-10-30          </td><td>Data                </td><td>Instructor          </td><td>5                   </td></tr>\n",
       "\t<tr><td>2017-10-30          </td><td>Data                </td><td>Organizer_Instructor</td><td>5                   </td></tr>\n",
       "\t<tr><td>2017-10-30          </td><td>Data                </td><td>Organizer           </td><td>4                   </td></tr>\n",
       "\t<tr><td>2018-01-22          </td><td>Software            </td><td>Helper              </td><td>4                   </td></tr>\n",
       "\t<tr><td>2018-01-22          </td><td>Software            </td><td>Instructor          </td><td>5                   </td></tr>\n",
       "\t<tr><td>2018-01-22          </td><td>Software            </td><td>Organizer_Instructor</td><td>6                   </td></tr>\n",
       "\t<tr><td>2018-01-22          </td><td>Software            </td><td>Organizer           </td><td>4                   </td></tr>\n",
       "</tbody>\n",
       "</table>\n"
      ],
      "text/latex": [
       "\\begin{tabular}{r|llll}\n",
       " Date & Type & Role & Total\\\\\n",
       "\\hline\n",
       "\t 2014-05-08           & Data                 & Helper               & 1                   \\\\\n",
       "\t 2014-05-08           & Data                 & Instructor           & 0                   \\\\\n",
       "\t 2014-05-08             & Data                   & Organizer\\_Instructor & 0                     \\\\\n",
       "\t 2014-05-08           & Data                 & Organizer            & 0                   \\\\\n",
       "\t 2014-09-29           & Data                 & Helper               & 1                   \\\\\n",
       "\t 2014-09-29           & Data                 & Instructor           & 1                   \\\\\n",
       "\t 2014-09-29             & Data                   & Organizer\\_Instructor & 0                     \\\\\n",
       "\t 2014-09-29           & Data                 & Organizer            & 0                   \\\\\n",
       "\t 2015-04-02           & Software             & Helper               & 1                   \\\\\n",
       "\t 2015-04-02           & Software             & Instructor           & 2                   \\\\\n",
       "\t 2015-04-02             & Software               & Organizer\\_Instructor & 0                     \\\\\n",
       "\t 2015-04-02           & Software             & Organizer            & 0                   \\\\\n",
       "\t 2015-05-04           & Software             & Helper               & 1                   \\\\\n",
       "\t 2015-05-04           & Software             & Instructor           & 3                   \\\\\n",
       "\t 2015-05-04             & Software               & Organizer\\_Instructor & 0                     \\\\\n",
       "\t 2015-05-04           & Software             & Organizer            & 0                   \\\\\n",
       "\t 2015-09-23           & Data                 & Helper               & 1                   \\\\\n",
       "\t 2015-09-23           & Data                 & Instructor           & 4                   \\\\\n",
       "\t 2015-09-23             & Data                   & Organizer\\_Instructor & 0                     \\\\\n",
       "\t 2015-09-23           & Data                 & Organizer            & 0                   \\\\\n",
       "\t 2016-01-21           & Instructor           & Helper               & 2                   \\\\\n",
       "\t 2016-01-21           & Instructor           & Instructor           & 4                   \\\\\n",
       "\t 2016-01-21             & Instructor             & Organizer\\_Instructor & 0                     \\\\\n",
       "\t 2016-01-21           & Instructor           & Organizer            & 0                   \\\\\n",
       "\t 2016-03-24           & Software             & Helper               & 2                   \\\\\n",
       "\t 2016-03-24           & Software             & Instructor           & 4                   \\\\\n",
       "\t 2016-03-24             & Software               & Organizer\\_Instructor & 1                     \\\\\n",
       "\t 2016-03-24           & Software             & Organizer            & 0                   \\\\\n",
       "\t 2016-08-17           & Software             & Helper               & 2                   \\\\\n",
       "\t 2016-08-17           & Software             & Instructor           & 4                   \\\\\n",
       "\t ⋮ & ⋮ & ⋮ & ⋮\\\\\n",
       "\t 2017-05-22             & Instructor             & Organizer\\_Instructor & 3                     \\\\\n",
       "\t 2017-05-22           & Instructor           & Organizer            & 1                   \\\\\n",
       "\t 2017-05-25           & Software             & Helper               & 3                   \\\\\n",
       "\t 2017-05-25           & Software             & Instructor           & 5                   \\\\\n",
       "\t 2017-05-25             & Software               & Organizer\\_Instructor & 3                     \\\\\n",
       "\t 2017-05-25           & Software             & Organizer            & 2                   \\\\\n",
       "\t 2017-06-29           & Data                 & Helper               & 4                   \\\\\n",
       "\t 2017-06-29           & Data                 & Instructor           & 5                   \\\\\n",
       "\t 2017-06-29             & Data                   & Organizer\\_Instructor & 3                     \\\\\n",
       "\t 2017-06-29           & Data                 & Organizer            & 2                   \\\\\n",
       "\t 2017-08-14           & Software             & Helper               & 4                   \\\\\n",
       "\t 2017-08-14           & Software             & Instructor           & 5                   \\\\\n",
       "\t 2017-08-14             & Software               & Organizer\\_Instructor & 4                     \\\\\n",
       "\t 2017-08-14           & Software             & Organizer            & 2                   \\\\\n",
       "\t 2017-08-15           & Data                 & Helper               & 4                   \\\\\n",
       "\t 2017-08-15           & Data                 & Instructor           & 5                   \\\\\n",
       "\t 2017-08-15             & Data                   & Organizer\\_Instructor & 4                     \\\\\n",
       "\t 2017-08-15           & Data                 & Organizer            & 3                   \\\\\n",
       "\t 2017-09-30           & Data                 & Helper               & 4                   \\\\\n",
       "\t 2017-09-30           & Data                 & Instructor           & 5                   \\\\\n",
       "\t 2017-09-30             & Data                   & Organizer\\_Instructor & 5                     \\\\\n",
       "\t 2017-09-30           & Data                 & Organizer            & 3                   \\\\\n",
       "\t 2017-10-30           & Data                 & Helper               & 4                   \\\\\n",
       "\t 2017-10-30           & Data                 & Instructor           & 5                   \\\\\n",
       "\t 2017-10-30             & Data                   & Organizer\\_Instructor & 5                     \\\\\n",
       "\t 2017-10-30           & Data                 & Organizer            & 4                   \\\\\n",
       "\t 2018-01-22           & Software             & Helper               & 4                   \\\\\n",
       "\t 2018-01-22           & Software             & Instructor           & 5                   \\\\\n",
       "\t 2018-01-22             & Software               & Organizer\\_Instructor & 6                     \\\\\n",
       "\t 2018-01-22           & Software             & Organizer            & 4                   \\\\\n",
       "\\end{tabular}\n"
      ],
      "text/markdown": [
       "\n",
       "Date | Type | Role | Total | \n",
       "|---|---|---|---|---|---|---|---|---|---|---|---|---|---|---|---|---|---|---|---|---|---|---|---|---|---|---|---|---|---|---|---|---|---|---|---|---|---|---|---|---|---|---|---|---|---|---|---|---|---|---|---|---|---|---|---|---|---|---|---|---|\n",
       "| 2014-05-08           | Data                 | Helper               | 1                    | \n",
       "| 2014-05-08           | Data                 | Instructor           | 0                    | \n",
       "| 2014-05-08           | Data                 | Organizer_Instructor | 0                    | \n",
       "| 2014-05-08           | Data                 | Organizer            | 0                    | \n",
       "| 2014-09-29           | Data                 | Helper               | 1                    | \n",
       "| 2014-09-29           | Data                 | Instructor           | 1                    | \n",
       "| 2014-09-29           | Data                 | Organizer_Instructor | 0                    | \n",
       "| 2014-09-29           | Data                 | Organizer            | 0                    | \n",
       "| 2015-04-02           | Software             | Helper               | 1                    | \n",
       "| 2015-04-02           | Software             | Instructor           | 2                    | \n",
       "| 2015-04-02           | Software             | Organizer_Instructor | 0                    | \n",
       "| 2015-04-02           | Software             | Organizer            | 0                    | \n",
       "| 2015-05-04           | Software             | Helper               | 1                    | \n",
       "| 2015-05-04           | Software             | Instructor           | 3                    | \n",
       "| 2015-05-04           | Software             | Organizer_Instructor | 0                    | \n",
       "| 2015-05-04           | Software             | Organizer            | 0                    | \n",
       "| 2015-09-23           | Data                 | Helper               | 1                    | \n",
       "| 2015-09-23           | Data                 | Instructor           | 4                    | \n",
       "| 2015-09-23           | Data                 | Organizer_Instructor | 0                    | \n",
       "| 2015-09-23           | Data                 | Organizer            | 0                    | \n",
       "| 2016-01-21           | Instructor           | Helper               | 2                    | \n",
       "| 2016-01-21           | Instructor           | Instructor           | 4                    | \n",
       "| 2016-01-21           | Instructor           | Organizer_Instructor | 0                    | \n",
       "| 2016-01-21           | Instructor           | Organizer            | 0                    | \n",
       "| 2016-03-24           | Software             | Helper               | 2                    | \n",
       "| 2016-03-24           | Software             | Instructor           | 4                    | \n",
       "| 2016-03-24           | Software             | Organizer_Instructor | 1                    | \n",
       "| 2016-03-24           | Software             | Organizer            | 0                    | \n",
       "| 2016-08-17           | Software             | Helper               | 2                    | \n",
       "| 2016-08-17           | Software             | Instructor           | 4                    | \n",
       "| ⋮ | ⋮ | ⋮ | ⋮ | \n",
       "| 2017-05-22           | Instructor           | Organizer_Instructor | 3                    | \n",
       "| 2017-05-22           | Instructor           | Organizer            | 1                    | \n",
       "| 2017-05-25           | Software             | Helper               | 3                    | \n",
       "| 2017-05-25           | Software             | Instructor           | 5                    | \n",
       "| 2017-05-25           | Software             | Organizer_Instructor | 3                    | \n",
       "| 2017-05-25           | Software             | Organizer            | 2                    | \n",
       "| 2017-06-29           | Data                 | Helper               | 4                    | \n",
       "| 2017-06-29           | Data                 | Instructor           | 5                    | \n",
       "| 2017-06-29           | Data                 | Organizer_Instructor | 3                    | \n",
       "| 2017-06-29           | Data                 | Organizer            | 2                    | \n",
       "| 2017-08-14           | Software             | Helper               | 4                    | \n",
       "| 2017-08-14           | Software             | Instructor           | 5                    | \n",
       "| 2017-08-14           | Software             | Organizer_Instructor | 4                    | \n",
       "| 2017-08-14           | Software             | Organizer            | 2                    | \n",
       "| 2017-08-15           | Data                 | Helper               | 4                    | \n",
       "| 2017-08-15           | Data                 | Instructor           | 5                    | \n",
       "| 2017-08-15           | Data                 | Organizer_Instructor | 4                    | \n",
       "| 2017-08-15           | Data                 | Organizer            | 3                    | \n",
       "| 2017-09-30           | Data                 | Helper               | 4                    | \n",
       "| 2017-09-30           | Data                 | Instructor           | 5                    | \n",
       "| 2017-09-30           | Data                 | Organizer_Instructor | 5                    | \n",
       "| 2017-09-30           | Data                 | Organizer            | 3                    | \n",
       "| 2017-10-30           | Data                 | Helper               | 4                    | \n",
       "| 2017-10-30           | Data                 | Instructor           | 5                    | \n",
       "| 2017-10-30           | Data                 | Organizer_Instructor | 5                    | \n",
       "| 2017-10-30           | Data                 | Organizer            | 4                    | \n",
       "| 2018-01-22           | Software             | Helper               | 4                    | \n",
       "| 2018-01-22           | Software             | Instructor           | 5                    | \n",
       "| 2018-01-22           | Software             | Organizer_Instructor | 6                    | \n",
       "| 2018-01-22           | Software             | Organizer            | 4                    | \n",
       "\n",
       "\n"
      ],
      "text/plain": [
       "   Date       Type       Role                 Total\n",
       "1  2014-05-08 Data       Helper               1    \n",
       "2  2014-05-08 Data       Instructor           0    \n",
       "3  2014-05-08 Data       Organizer_Instructor 0    \n",
       "4  2014-05-08 Data       Organizer            0    \n",
       "5  2014-09-29 Data       Helper               1    \n",
       "6  2014-09-29 Data       Instructor           1    \n",
       "7  2014-09-29 Data       Organizer_Instructor 0    \n",
       "8  2014-09-29 Data       Organizer            0    \n",
       "9  2015-04-02 Software   Helper               1    \n",
       "10 2015-04-02 Software   Instructor           2    \n",
       "11 2015-04-02 Software   Organizer_Instructor 0    \n",
       "12 2015-04-02 Software   Organizer            0    \n",
       "13 2015-05-04 Software   Helper               1    \n",
       "14 2015-05-04 Software   Instructor           3    \n",
       "15 2015-05-04 Software   Organizer_Instructor 0    \n",
       "16 2015-05-04 Software   Organizer            0    \n",
       "17 2015-09-23 Data       Helper               1    \n",
       "18 2015-09-23 Data       Instructor           4    \n",
       "19 2015-09-23 Data       Organizer_Instructor 0    \n",
       "20 2015-09-23 Data       Organizer            0    \n",
       "21 2016-01-21 Instructor Helper               2    \n",
       "22 2016-01-21 Instructor Instructor           4    \n",
       "23 2016-01-21 Instructor Organizer_Instructor 0    \n",
       "24 2016-01-21 Instructor Organizer            0    \n",
       "25 2016-03-24 Software   Helper               2    \n",
       "26 2016-03-24 Software   Instructor           4    \n",
       "27 2016-03-24 Software   Organizer_Instructor 1    \n",
       "28 2016-03-24 Software   Organizer            0    \n",
       "29 2016-08-17 Software   Helper               2    \n",
       "30 2016-08-17 Software   Instructor           4    \n",
       "⋮  ⋮          ⋮          ⋮                    ⋮    \n",
       "47 2017-05-22 Instructor Organizer_Instructor 3    \n",
       "48 2017-05-22 Instructor Organizer            1    \n",
       "49 2017-05-25 Software   Helper               3    \n",
       "50 2017-05-25 Software   Instructor           5    \n",
       "51 2017-05-25 Software   Organizer_Instructor 3    \n",
       "52 2017-05-25 Software   Organizer            2    \n",
       "53 2017-06-29 Data       Helper               4    \n",
       "54 2017-06-29 Data       Instructor           5    \n",
       "55 2017-06-29 Data       Organizer_Instructor 3    \n",
       "56 2017-06-29 Data       Organizer            2    \n",
       "57 2017-08-14 Software   Helper               4    \n",
       "58 2017-08-14 Software   Instructor           5    \n",
       "59 2017-08-14 Software   Organizer_Instructor 4    \n",
       "60 2017-08-14 Software   Organizer            2    \n",
       "61 2017-08-15 Data       Helper               4    \n",
       "62 2017-08-15 Data       Instructor           5    \n",
       "63 2017-08-15 Data       Organizer_Instructor 4    \n",
       "64 2017-08-15 Data       Organizer            3    \n",
       "65 2017-09-30 Data       Helper               4    \n",
       "66 2017-09-30 Data       Instructor           5    \n",
       "67 2017-09-30 Data       Organizer_Instructor 5    \n",
       "68 2017-09-30 Data       Organizer            3    \n",
       "69 2017-10-30 Data       Helper               4    \n",
       "70 2017-10-30 Data       Instructor           5    \n",
       "71 2017-10-30 Data       Organizer_Instructor 5    \n",
       "72 2017-10-30 Data       Organizer            4    \n",
       "73 2018-01-22 Software   Helper               4    \n",
       "74 2018-01-22 Software   Instructor           5    \n",
       "75 2018-01-22 Software   Organizer_Instructor 6    \n",
       "76 2018-01-22 Software   Organizer            4    "
      ]
     },
     "metadata": {},
     "output_type": "display_data"
    }
   ],
   "source": [
    "events_long <- activity_long %>%\n",
    "    group_by(Date) %>%\n",
    "#filter(Total == max(Total)) %>%\n",
    "arrange(Date)\n",
    "# %>%\n",
    "#mutate(count = n())\n",
    "events_long"
   ]
  },
  {
   "cell_type": "code",
   "execution_count": 54,
   "metadata": {
    "scrolled": false
   },
   "outputs": [
    {
     "data": {
      "image/png": "[encoded data removed]",
      "text/plain": [
       "plot without title"
      ]
     },
     "metadata": {},
     "output_type": "display_data"
    }
   ],
   "source": [
    "p <- ggplot(activity_long[order(activity_long$Role),], \n",
    "            aes(x = Date, y = Total, fill=Role)) + \n",
    "  geom_area(position='stack') +\n",
    "  geom_point(data=events_long, aes(x=Date, color=Role), inherit.aes=FALSE, stat=\"count\") + \n",
    "  scale_y_continuous(expand = c(0, 0)) +\n",
    "  scale_fill_brewer(palette=\"Greens\", direction=-1) + \n",
    "  ggtitle(\"Cumulative Carpentries Activities\") + \n",
    "  theme(plot.title = element_text(hjust = 0.5), \n",
    "        aspect.ratio=4/8)\n",
    "print(p)"
   ]
  },
  {
   "cell_type": "markdown",
   "metadata": {},
   "source": [
    "The geom_area graph looks pretty but the straight connecting lines between discrite events are wrong and make it hard to read off values.\n",
    "\n",
    "A stacked bar graph is more appropriate and if we make the bars wide enough to touch, maybe we can get a similar area effect. - Had problems with this idea.\n",
    "\n",
    "Maybe adding the events as stars on the graph will help people understand the valid data points to read."
   ]
  },
  {
   "cell_type": "code",
   "execution_count": 33,
   "metadata": {},
   "outputs": [
    {
     "name": "stderr",
     "output_type": "stream",
     "text": [
      "Warning message:\n",
      "“Ignoring unknown parameters: binwidth, bins, pad”Warning message:\n",
      "“position_stack requires non-overlapping x intervals”"
     ]
    },
    {
     "data": {
      "image/png": "[encoded data removed]",
      "text/plain": [
       "plot without title"
      ]
     },
     "metadata": {},
     "output_type": "display_data"
    }
   ],
   "source": [
    "p <- ggplot(activity_long[order(activity_long$Role),],\n",
    "           aes(x=Date, y=Total, fill=Role)) + \n",
    "  geom_histogram(stat=\"identity\", width=90) +\n",
    "  scale_y_continuous(expand = c(0, 0)) +\n",
    "  scale_fill_brewer(palette=\"Greens\", direction=-1) + \n",
    "  ggtitle(\"Cumulative Carpentries Activities\") + \n",
    "  theme(plot.title = element_text(hjust = 0.5), \n",
    "        aspect.ratio=4/8)\n",
    "print(p)"
   ]
  },
  {
   "cell_type": "code",
   "execution_count": 10,
   "metadata": {
    "collapsed": true
   },
   "outputs": [],
   "source": [
    "ggsave(\"../carpentries_graph.png\", width = 8, height = 4, units = \"in\", dpi = 75)"
   ]
  }
 ],
 "metadata": {
  "kernelspec": {
   "display_name": "R",
   "language": "R",
   "name": "ir"
  },
  "language_info": {
   "codemirror_mode": "r",
   "file_extension": ".r",
   "mimetype": "text/x-r-source",
   "name": "R",
   "pygments_lexer": "r",
   "version": "3.4.3"
  }
 },
 "nbformat": 4,
 "nbformat_minor": 1
}
