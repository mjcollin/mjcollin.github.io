{
 "cells": [
  {
   "cell_type": "code",
   "execution_count": 1,
   "metadata": {
    "collapsed": false
   },
   "outputs": [],
   "source": [
    "library(ggplot2)"
   ]
  },
  {
   "cell_type": "code",
   "execution_count": 2,
   "metadata": {
    "collapsed": false
   },
   "outputs": [],
   "source": [
    "dates = as.Date(c(\n",
    "    \"2014-07-24\", # https://datacarpentry.github.io/2014-07-24-beacon/\n",
    "    \"2014-09-29\", # https://datacarpentry.github.io/2014-09-29-iDigBio/\n",
    "    \"2015-04-02\", # https://xuf12.github.io/2015-04-02-umiami/\n",
    "    \"2015-05-04\", # https://mckays630.github.io/2015-05-04-usfcms/\n",
    "    \"2015-09-23\", # http://www.datacarpentry.org/2015-09-23-TDWG/\n",
    "    \"2016-01-21\", # https://swcarpentry.github.io/training-florida-2016-01-21/\n",
    "    \"2016-05-23\", # https://weecology.github.io/2016-03-24-UFII-SWC/\n",
    "    \"2016-08-17\", # https://acislab.github.io/2016-08-17-UF-Informatics-Institute/\n",
    "    \"2016-10-17\", # https://weecology.github.io/2016-10-17-uf/\n",
    "    \"2016-12-03\", # https://idigbio.github.io/2016-12-03-tdwg-costa-rica/\n",
    "    \"2017-02-26\", # https://acislab.github.io/2017-02-06-UF-Informatics-Institute/\n",
    "    \"2017-05-22\", # https://fmichonneau.github.io/2017-05-22-ttt-UFII/\n",
    "    \"2017-05-25\", # https://weecology.github.io/2017-05-25-UF/\n",
    "    \"2017-06-29\", # https://fsulib.github.io/2017-06-29-fsu/\n",
    "    \"2017-08-14\", # https://uf-carpentry.github.io/2017-08-14-UFII-SwC/\n",
    "    \"2017-08-15\", # https://uf-carpentry.github.io/2017-08-14-UFII-DC/\n",
    "    \"2017-09-30\", # https://idigbio.github.io/2017-09-30-TDWG-Ottawa/\n",
    "    \"2017-10-30\" # https://idigbio.github.io/2017-10-30-iDigBio-Summit-UFII/\n",
    "))\n",
    "types = c(\n",
    "    \"d\",\n",
    "    \"d\",\n",
    "    \"s\",\n",
    "    \"s\",\n",
    "    \"d\",\n",
    "    \"i\",\n",
    "    \"s\",\n",
    "    \"s\",\n",
    "    \"d\",\n",
    "    \"s\",\n",
    "    \"s\",\n",
    "    \"i\",\n",
    "    \"s\",\n",
    "    \"d\",\n",
    "    \"s\",\n",
    "    \"d\",\n",
    "    \"d\",\n",
    "    \"d\" \n",
    ")\n",
    "roles = c(\n",
    "    \"h\",\n",
    "    \"i\",\n",
    "    \"i\",\n",
    "    \"i\",\n",
    "    \"i\",\n",
    "    \"h\",\n",
    "    \"oi\",\n",
    "    \"oi\",\n",
    "    \"o\",\n",
    "    \"i\",\n",
    "    \"oi\",\n",
    "    \"h\",\n",
    "    \"o\",\n",
    "    \"i\",\n",
    "    \"oi\",\n",
    "    \"o\",\n",
    "    \"oi\",\n",
    "    \"oi\" \n",
    ")\n",
    "num = c(\n",
    "    1,\n",
    "    1,\n",
    "    2,\n",
    "    3,\n",
    "    4,\n",
    "    2,\n",
    "    1,\n",
    "    2,\n",
    "    1,\n",
    "    5,\n",
    "    3,\n",
    "    3,\n",
    "    2,\n",
    "    6,\n",
    "    4,\n",
    "    3,\n",
    "    5,\n",
    "    6\n",
    ")\n",
    "\n",
    "df <- data.frame(date=dates, type=types, role=roles, num=num)"
   ]
  },
  {
   "cell_type": "code",
   "execution_count": 3,
   "metadata": {
    "collapsed": false
   },
   "outputs": [
    {
     "data": {
      "text/html": [
       "<table>\n",
       "<thead><tr><th scope=col>date</th><th scope=col>type</th><th scope=col>role</th><th scope=col>num</th></tr></thead>\n",
       "<tbody>\n",
       "\t<tr><td>2014-07-24</td><td>d         </td><td>h         </td><td>1         </td></tr>\n",
       "\t<tr><td>2014-09-29</td><td>d         </td><td>i         </td><td>1         </td></tr>\n",
       "\t<tr><td>2015-04-02</td><td>s         </td><td>i         </td><td>2         </td></tr>\n",
       "\t<tr><td>2015-05-04</td><td>s         </td><td>i         </td><td>3         </td></tr>\n",
       "\t<tr><td>2015-09-23</td><td>d         </td><td>i         </td><td>4         </td></tr>\n",
       "\t<tr><td>2016-01-21</td><td>i         </td><td>h         </td><td>2         </td></tr>\n",
       "\t<tr><td>2016-05-23</td><td>s         </td><td>oi        </td><td>1         </td></tr>\n",
       "\t<tr><td>2016-08-17</td><td>s         </td><td>oi        </td><td>2         </td></tr>\n",
       "\t<tr><td>2016-10-17</td><td>d         </td><td>o         </td><td>1         </td></tr>\n",
       "\t<tr><td>2016-12-03</td><td>s         </td><td>i         </td><td>5         </td></tr>\n",
       "\t<tr><td>2017-02-26</td><td>s         </td><td>oi        </td><td>3         </td></tr>\n",
       "\t<tr><td>2017-05-22</td><td>i         </td><td>h         </td><td>3         </td></tr>\n",
       "\t<tr><td>2017-05-25</td><td>s         </td><td>o         </td><td>2         </td></tr>\n",
       "\t<tr><td>2017-06-29</td><td>d         </td><td>i         </td><td>6         </td></tr>\n",
       "\t<tr><td>2017-08-14</td><td>s         </td><td>oi        </td><td>4         </td></tr>\n",
       "\t<tr><td>2017-08-15</td><td>d         </td><td>o         </td><td>3         </td></tr>\n",
       "\t<tr><td>2017-09-30</td><td>d         </td><td>oi        </td><td>5         </td></tr>\n",
       "\t<tr><td>2017-10-30</td><td>d         </td><td>oi        </td><td>6         </td></tr>\n",
       "</tbody>\n",
       "</table>\n"
      ],
      "text/latex": [
       "\\begin{tabular}{r|llll}\n",
       " date & type & role & num\\\\\n",
       "\\hline\n",
       "\t 2014-07-24 & d          & h          & 1         \\\\\n",
       "\t 2014-09-29 & d          & i          & 1         \\\\\n",
       "\t 2015-04-02 & s          & i          & 2         \\\\\n",
       "\t 2015-05-04 & s          & i          & 3         \\\\\n",
       "\t 2015-09-23 & d          & i          & 4         \\\\\n",
       "\t 2016-01-21 & i          & h          & 2         \\\\\n",
       "\t 2016-05-23 & s          & oi         & 1         \\\\\n",
       "\t 2016-08-17 & s          & oi         & 2         \\\\\n",
       "\t 2016-10-17 & d          & o          & 1         \\\\\n",
       "\t 2016-12-03 & s          & i          & 5         \\\\\n",
       "\t 2017-02-26 & s          & oi         & 3         \\\\\n",
       "\t 2017-05-22 & i          & h          & 3         \\\\\n",
       "\t 2017-05-25 & s          & o          & 2         \\\\\n",
       "\t 2017-06-29 & d          & i          & 6         \\\\\n",
       "\t 2017-08-14 & s          & oi         & 4         \\\\\n",
       "\t 2017-08-15 & d          & o          & 3         \\\\\n",
       "\t 2017-09-30 & d          & oi         & 5         \\\\\n",
       "\t 2017-10-30 & d          & oi         & 6         \\\\\n",
       "\\end{tabular}\n"
      ],
      "text/markdown": [
       "\n",
       "date | type | role | num | \n",
       "|---|---|---|---|---|---|---|---|---|---|---|---|---|---|---|---|---|---|\n",
       "| 2014-07-24 | d          | h          | 1          | \n",
       "| 2014-09-29 | d          | i          | 1          | \n",
       "| 2015-04-02 | s          | i          | 2          | \n",
       "| 2015-05-04 | s          | i          | 3          | \n",
       "| 2015-09-23 | d          | i          | 4          | \n",
       "| 2016-01-21 | i          | h          | 2          | \n",
       "| 2016-05-23 | s          | oi         | 1          | \n",
       "| 2016-08-17 | s          | oi         | 2          | \n",
       "| 2016-10-17 | d          | o          | 1          | \n",
       "| 2016-12-03 | s          | i          | 5          | \n",
       "| 2017-02-26 | s          | oi         | 3          | \n",
       "| 2017-05-22 | i          | h          | 3          | \n",
       "| 2017-05-25 | s          | o          | 2          | \n",
       "| 2017-06-29 | d          | i          | 6          | \n",
       "| 2017-08-14 | s          | oi         | 4          | \n",
       "| 2017-08-15 | d          | o          | 3          | \n",
       "| 2017-09-30 | d          | oi         | 5          | \n",
       "| 2017-10-30 | d          | oi         | 6          | \n",
       "\n",
       "\n"
      ],
      "text/plain": [
       "   date       type role num\n",
       "1  2014-07-24 d    h    1  \n",
       "2  2014-09-29 d    i    1  \n",
       "3  2015-04-02 s    i    2  \n",
       "4  2015-05-04 s    i    3  \n",
       "5  2015-09-23 d    i    4  \n",
       "6  2016-01-21 i    h    2  \n",
       "7  2016-05-23 s    oi   1  \n",
       "8  2016-08-17 s    oi   2  \n",
       "9  2016-10-17 d    o    1  \n",
       "10 2016-12-03 s    i    5  \n",
       "11 2017-02-26 s    oi   3  \n",
       "12 2017-05-22 i    h    3  \n",
       "13 2017-05-25 s    o    2  \n",
       "14 2017-06-29 d    i    6  \n",
       "15 2017-08-14 s    oi   4  \n",
       "16 2017-08-15 d    o    3  \n",
       "17 2017-09-30 d    oi   5  \n",
       "18 2017-10-30 d    oi   6  "
      ]
     },
     "metadata": {},
     "output_type": "display_data"
    }
   ],
   "source": [
    "df"
   ]
  },
  {
   "cell_type": "code",
   "execution_count": null,
   "metadata": {
    "collapsed": true
   },
   "outputs": [],
   "source": []
  },
  {
   "cell_type": "code",
   "execution_count": 4,
   "metadata": {
    "collapsed": false
   },
   "outputs": [
    {
     "data": {},
     "metadata": {},
     "output_type": "display_data"
    },
    {
     "data": {
      "image/png": "[encoded data removed]",
      "text/plain": [
       "plot without title"
      ]
     },
     "metadata": {},
     "output_type": "display_data"
    }
   ],
   "source": [
    "ggplot(df, aes(x = date, y = num)) + geom_area(aes(colour=role, fill=role))\n",
    "# , fill = role\n",
    "#+ geom_area(position = 'stack')"
   ]
  },
  {
   "cell_type": "code",
   "execution_count": 5,
   "metadata": {
    "collapsed": false
   },
   "outputs": [
    {
     "data": {
      "text/html": [
       "<table>\n",
       "<thead><tr><th scope=col>date</th><th scope=col>type</th><th scope=col>helper</th><th scope=col>instructor</th><th scope=col>org_inst</th><th scope=col>organizer</th></tr></thead>\n",
       "<tbody>\n",
       "\t<tr><td>2014-07-24</td><td>d         </td><td>1         </td><td>0         </td><td>0         </td><td>0         </td></tr>\n",
       "\t<tr><td>2014-09-29</td><td>d         </td><td>0         </td><td>1         </td><td>0         </td><td>0         </td></tr>\n",
       "\t<tr><td>2015-04-02</td><td>s         </td><td>0         </td><td>1         </td><td>0         </td><td>0         </td></tr>\n",
       "</tbody>\n",
       "</table>\n"
      ],
      "text/latex": [
       "\\begin{tabular}{r|llllll}\n",
       " date & type & helper & instructor & org\\_inst & organizer\\\\\n",
       "\\hline\n",
       "\t 2014-07-24 & d          & 1          & 0          & 0          & 0         \\\\\n",
       "\t 2014-09-29 & d          & 0          & 1          & 0          & 0         \\\\\n",
       "\t 2015-04-02 & s          & 0          & 1          & 0          & 0         \\\\\n",
       "\\end{tabular}\n"
      ],
      "text/markdown": [
       "\n",
       "date | type | helper | instructor | org_inst | organizer | \n",
       "|---|---|---|\n",
       "| 2014-07-24 | d          | 1          | 0          | 0          | 0          | \n",
       "| 2014-09-29 | d          | 0          | 1          | 0          | 0          | \n",
       "| 2015-04-02 | s          | 0          | 1          | 0          | 0          | \n",
       "\n",
       "\n"
      ],
      "text/plain": [
       "  date       type helper instructor org_inst organizer\n",
       "1 2014-07-24 d    1      0          0        0        \n",
       "2 2014-09-29 d    0      1          0        0        \n",
       "3 2015-04-02 s    0      1          0        0        "
      ]
     },
     "metadata": {},
     "output_type": "display_data"
    }
   ],
   "source": [
    "activity = read.csv(\"~/carp_activity.csv\", header=TRUE, stringsAsFactors=FALSE)\n",
    "head(activity, 3)"
   ]
  },
  {
   "cell_type": "code",
   "execution_count": 6,
   "metadata": {
    "collapsed": false
   },
   "outputs": [],
   "source": [
    "library(tidyr)"
   ]
  },
  {
   "cell_type": "code",
   "execution_count": 7,
   "metadata": {
    "collapsed": true
   },
   "outputs": [],
   "source": [
    "#activity$helper_cs = cumsum(activity$helper)\n",
    "#activity$instructor_cs = cumsum(activity$instructor)\n",
    "#activity$org_inst_cs = cumsum(activity$org_inst)\n",
    "#activity$organizer_cs = cumsum(activity$organizer)"
   ]
  },
  {
   "cell_type": "code",
   "execution_count": 8,
   "metadata": {
    "collapsed": false
   },
   "outputs": [
    {
     "data": {
      "text/html": [
       "<table>\n",
       "<thead><tr><th scope=col>date</th><th scope=col>type</th><th scope=col>helper</th><th scope=col>instructor</th><th scope=col>org_inst</th><th scope=col>organizer</th></tr></thead>\n",
       "<tbody>\n",
       "\t<tr><td>2014-07-24</td><td>d         </td><td>1         </td><td>0         </td><td>0         </td><td>0         </td></tr>\n",
       "\t<tr><td>2014-09-29</td><td>d         </td><td>1         </td><td>1         </td><td>0         </td><td>0         </td></tr>\n",
       "</tbody>\n",
       "</table>\n"
      ],
      "text/latex": [
       "\\begin{tabular}{r|llllll}\n",
       " date & type & helper & instructor & org\\_inst & organizer\\\\\n",
       "\\hline\n",
       "\t 2014-07-24 & d          & 1          & 0          & 0          & 0         \\\\\n",
       "\t 2014-09-29 & d          & 1          & 1          & 0          & 0         \\\\\n",
       "\\end{tabular}\n"
      ],
      "text/markdown": [
       "\n",
       "date | type | helper | instructor | org_inst | organizer | \n",
       "|---|---|\n",
       "| 2014-07-24 | d          | 1          | 0          | 0          | 0          | \n",
       "| 2014-09-29 | d          | 1          | 1          | 0          | 0          | \n",
       "\n",
       "\n"
      ],
      "text/plain": [
       "  date       type helper instructor org_inst organizer\n",
       "1 2014-07-24 d    1      0          0        0        \n",
       "2 2014-09-29 d    1      1          0        0        "
      ]
     },
     "metadata": {},
     "output_type": "display_data"
    }
   ],
   "source": [
    "cumulative_activity = data.frame(date=as.Date(activity$date), \n",
    "                                type=activity$type, \n",
    "                                helper=cumsum(activity$helper),\n",
    "                                instructor=cumsum(activity$instructor),\n",
    "                                org_inst=cumsum(activity$org_inst),\n",
    "                                organizer=cumsum(activity$organizer)\n",
    "                                )\n",
    "head(cumulative_activity, 2)"
   ]
  },
  {
   "cell_type": "code",
   "execution_count": 9,
   "metadata": {
    "collapsed": false
   },
   "outputs": [
    {
     "data": {
      "text/html": [
       "<table>\n",
       "<thead><tr><th scope=col>date</th><th scope=col>type</th><th scope=col>role</th><th scope=col>total</th></tr></thead>\n",
       "<tbody>\n",
       "\t<tr><td>2014-07-24</td><td>d         </td><td>helper    </td><td>1         </td></tr>\n",
       "\t<tr><td>2014-09-29</td><td>d         </td><td>helper    </td><td>1         </td></tr>\n",
       "\t<tr><td>2015-04-02</td><td>s         </td><td>helper    </td><td>1         </td></tr>\n",
       "\t<tr><td>2015-05-04</td><td>s         </td><td>helper    </td><td>1         </td></tr>\n",
       "\t<tr><td>2015-09-23</td><td>d         </td><td>helper    </td><td>1         </td></tr>\n",
       "\t<tr><td>2016-01-21</td><td>i         </td><td>helper    </td><td>2         </td></tr>\n",
       "\t<tr><td>2016-05-23</td><td>s         </td><td>helper    </td><td>2         </td></tr>\n",
       "\t<tr><td>2016-08-17</td><td>s         </td><td>helper    </td><td>2         </td></tr>\n",
       "\t<tr><td>2016-10-17</td><td>d         </td><td>helper    </td><td>2         </td></tr>\n",
       "\t<tr><td>2016-12-03</td><td>s         </td><td>helper    </td><td>2         </td></tr>\n",
       "\t<tr><td>2017-02-26</td><td>s         </td><td>helper    </td><td>2         </td></tr>\n",
       "\t<tr><td>2017-05-22</td><td>i         </td><td>helper    </td><td>3         </td></tr>\n",
       "\t<tr><td>2017-05-25</td><td>s         </td><td>helper    </td><td>3         </td></tr>\n",
       "\t<tr><td>2017-06-29</td><td>d         </td><td>helper    </td><td>4         </td></tr>\n",
       "\t<tr><td>2017-08-14</td><td>s         </td><td>helper    </td><td>4         </td></tr>\n",
       "\t<tr><td>2017-08-15</td><td>d         </td><td>helper    </td><td>4         </td></tr>\n",
       "\t<tr><td>2017-09-30</td><td>d         </td><td>helper    </td><td>4         </td></tr>\n",
       "\t<tr><td>2017-10-30</td><td>d         </td><td>helper    </td><td>4         </td></tr>\n",
       "\t<tr><td>2014-07-24</td><td>d         </td><td>instructor</td><td>0         </td></tr>\n",
       "\t<tr><td>2014-09-29</td><td>d         </td><td>instructor</td><td>1         </td></tr>\n",
       "\t<tr><td>2015-04-02</td><td>s         </td><td>instructor</td><td>2         </td></tr>\n",
       "\t<tr><td>2015-05-04</td><td>s         </td><td>instructor</td><td>3         </td></tr>\n",
       "\t<tr><td>2015-09-23</td><td>d         </td><td>instructor</td><td>4         </td></tr>\n",
       "\t<tr><td>2016-01-21</td><td>i         </td><td>instructor</td><td>4         </td></tr>\n",
       "\t<tr><td>2016-05-23</td><td>s         </td><td>instructor</td><td>4         </td></tr>\n",
       "</tbody>\n",
       "</table>\n"
      ],
      "text/latex": [
       "\\begin{tabular}{r|llll}\n",
       " date & type & role & total\\\\\n",
       "\\hline\n",
       "\t 2014-07-24 & d          & helper     & 1         \\\\\n",
       "\t 2014-09-29 & d          & helper     & 1         \\\\\n",
       "\t 2015-04-02 & s          & helper     & 1         \\\\\n",
       "\t 2015-05-04 & s          & helper     & 1         \\\\\n",
       "\t 2015-09-23 & d          & helper     & 1         \\\\\n",
       "\t 2016-01-21 & i          & helper     & 2         \\\\\n",
       "\t 2016-05-23 & s          & helper     & 2         \\\\\n",
       "\t 2016-08-17 & s          & helper     & 2         \\\\\n",
       "\t 2016-10-17 & d          & helper     & 2         \\\\\n",
       "\t 2016-12-03 & s          & helper     & 2         \\\\\n",
       "\t 2017-02-26 & s          & helper     & 2         \\\\\n",
       "\t 2017-05-22 & i          & helper     & 3         \\\\\n",
       "\t 2017-05-25 & s          & helper     & 3         \\\\\n",
       "\t 2017-06-29 & d          & helper     & 4         \\\\\n",
       "\t 2017-08-14 & s          & helper     & 4         \\\\\n",
       "\t 2017-08-15 & d          & helper     & 4         \\\\\n",
       "\t 2017-09-30 & d          & helper     & 4         \\\\\n",
       "\t 2017-10-30 & d          & helper     & 4         \\\\\n",
       "\t 2014-07-24 & d          & instructor & 0         \\\\\n",
       "\t 2014-09-29 & d          & instructor & 1         \\\\\n",
       "\t 2015-04-02 & s          & instructor & 2         \\\\\n",
       "\t 2015-05-04 & s          & instructor & 3         \\\\\n",
       "\t 2015-09-23 & d          & instructor & 4         \\\\\n",
       "\t 2016-01-21 & i          & instructor & 4         \\\\\n",
       "\t 2016-05-23 & s          & instructor & 4         \\\\\n",
       "\\end{tabular}\n"
      ],
      "text/markdown": [
       "\n",
       "date | type | role | total | \n",
       "|---|---|---|---|---|---|---|---|---|---|---|---|---|---|---|---|---|---|---|---|---|---|---|---|---|\n",
       "| 2014-07-24 | d          | helper     | 1          | \n",
       "| 2014-09-29 | d          | helper     | 1          | \n",
       "| 2015-04-02 | s          | helper     | 1          | \n",
       "| 2015-05-04 | s          | helper     | 1          | \n",
       "| 2015-09-23 | d          | helper     | 1          | \n",
       "| 2016-01-21 | i          | helper     | 2          | \n",
       "| 2016-05-23 | s          | helper     | 2          | \n",
       "| 2016-08-17 | s          | helper     | 2          | \n",
       "| 2016-10-17 | d          | helper     | 2          | \n",
       "| 2016-12-03 | s          | helper     | 2          | \n",
       "| 2017-02-26 | s          | helper     | 2          | \n",
       "| 2017-05-22 | i          | helper     | 3          | \n",
       "| 2017-05-25 | s          | helper     | 3          | \n",
       "| 2017-06-29 | d          | helper     | 4          | \n",
       "| 2017-08-14 | s          | helper     | 4          | \n",
       "| 2017-08-15 | d          | helper     | 4          | \n",
       "| 2017-09-30 | d          | helper     | 4          | \n",
       "| 2017-10-30 | d          | helper     | 4          | \n",
       "| 2014-07-24 | d          | instructor | 0          | \n",
       "| 2014-09-29 | d          | instructor | 1          | \n",
       "| 2015-04-02 | s          | instructor | 2          | \n",
       "| 2015-05-04 | s          | instructor | 3          | \n",
       "| 2015-09-23 | d          | instructor | 4          | \n",
       "| 2016-01-21 | i          | instructor | 4          | \n",
       "| 2016-05-23 | s          | instructor | 4          | \n",
       "\n",
       "\n"
      ],
      "text/plain": [
       "   date       type role       total\n",
       "1  2014-07-24 d    helper     1    \n",
       "2  2014-09-29 d    helper     1    \n",
       "3  2015-04-02 s    helper     1    \n",
       "4  2015-05-04 s    helper     1    \n",
       "5  2015-09-23 d    helper     1    \n",
       "6  2016-01-21 i    helper     2    \n",
       "7  2016-05-23 s    helper     2    \n",
       "8  2016-08-17 s    helper     2    \n",
       "9  2016-10-17 d    helper     2    \n",
       "10 2016-12-03 s    helper     2    \n",
       "11 2017-02-26 s    helper     2    \n",
       "12 2017-05-22 i    helper     3    \n",
       "13 2017-05-25 s    helper     3    \n",
       "14 2017-06-29 d    helper     4    \n",
       "15 2017-08-14 s    helper     4    \n",
       "16 2017-08-15 d    helper     4    \n",
       "17 2017-09-30 d    helper     4    \n",
       "18 2017-10-30 d    helper     4    \n",
       "19 2014-07-24 d    instructor 0    \n",
       "20 2014-09-29 d    instructor 1    \n",
       "21 2015-04-02 s    instructor 2    \n",
       "22 2015-05-04 s    instructor 3    \n",
       "23 2015-09-23 d    instructor 4    \n",
       "24 2016-01-21 i    instructor 4    \n",
       "25 2016-05-23 s    instructor 4    "
      ]
     },
     "metadata": {},
     "output_type": "display_data"
    }
   ],
   "source": [
    "activity_long = gather(cumulative_activity, role, total, helper:organizer)\n",
    "head(activity_long, 25)"
   ]
  },
  {
   "cell_type": "code",
   "execution_count": 10,
   "metadata": {
    "collapsed": false
   },
   "outputs": [
    {
     "name": "stdout",
     "output_type": "stream",
     "text": [
      "'data.frame':\t18 obs. of  6 variables:\n",
      " $ date      : Date, format: \"2014-07-24\" \"2014-09-29\" ...\n",
      " $ type      : Factor w/ 3 levels \"d\",\"i\",\"s\": 1 1 3 3 1 2 3 3 1 3 ...\n",
      " $ helper    : int  1 1 1 1 1 2 2 2 2 2 ...\n",
      " $ instructor: int  0 1 2 3 4 4 4 4 4 5 ...\n",
      " $ org_inst  : int  0 0 0 0 0 0 1 2 2 2 ...\n",
      " $ organizer : int  0 0 0 0 0 0 0 0 1 1 ...\n"
     ]
    }
   ],
   "source": [
    "str(cumulative_activity)"
   ]
  },
  {
   "cell_type": "code",
   "execution_count": 11,
   "metadata": {
    "collapsed": false
   },
   "outputs": [
    {
     "name": "stdout",
     "output_type": "stream",
     "text": [
      "'data.frame':\t72 obs. of  4 variables:\n",
      " $ date : Date, format: \"2014-07-24\" \"2014-09-29\" ...\n",
      " $ type : Factor w/ 3 levels \"d\",\"i\",\"s\": 1 1 3 3 1 2 3 3 1 3 ...\n",
      " $ role : chr  \"helper\" \"helper\" \"helper\" \"helper\" ...\n",
      " $ total: int  1 1 1 1 1 2 2 2 2 2 ...\n"
     ]
    }
   ],
   "source": [
    "str(activity_long)"
   ]
  },
  {
   "cell_type": "code",
   "execution_count": 16,
   "metadata": {
    "collapsed": true
   },
   "outputs": [],
   "source": [
    "activity_long$role <- factor(activity_long$role, levels=c(\"organizer\", \"org_inst\", \"instructor\", \"helper\"))"
   ]
  },
  {
   "cell_type": "code",
   "execution_count": 18,
   "metadata": {
    "collapsed": false,
    "scrolled": false
   },
   "outputs": [
    {
     "data": {
      "image/png": "[encoded data removed]",
      "text/plain": [
       "plot without title"
      ]
     },
     "metadata": {},
     "output_type": "display_data"
    }
   ],
   "source": [
    "p <- ggplot(activity_long[order(activity_long$role),], aes(x = date, y = total, fill=role)) + \n",
    "  geom_area() +\n",
    "  scale_fill_brewer(palette=\"Greens\", direction=-1)\n",
    "print(p)"
   ]
  }
 ],
 "metadata": {
  "kernelspec": {
   "display_name": "R",
   "language": "R",
   "name": "ir"
  },
  "language_info": {
   "codemirror_mode": "r",
   "file_extension": ".r",
   "mimetype": "text/x-r-source",
   "name": "R",
   "pygments_lexer": "r",
   "version": "3.4.0"
  }
 },
 "nbformat": 4,
 "nbformat_minor": 1
}
