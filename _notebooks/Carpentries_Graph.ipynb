{
 "cells": [
  {
   "cell_type": "code",
   "execution_count": 52,
   "metadata": {},
   "outputs": [
    {
     "name": "stderr",
     "output_type": "stream",
     "text": [
      "Loading tidyverse: tibble\n",
      "Loading tidyverse: readr\n",
      "Loading tidyverse: purrr\n",
      "Loading tidyverse: dplyr\n",
      "Conflicts with tidy packages ---------------------------------------------------\n",
      "filter(): dplyr, stats\n",
      "lag():    dplyr, stats\n"
     ]
    }
   ],
   "source": [
    "library(tidyverse)"
   ]
  },
  {
   "cell_type": "code",
   "execution_count": null,
   "metadata": {
    "collapsed": true
   },
   "outputs": [],
   "source": []
  },
  {
   "cell_type": "code",
   "execution_count": 31,
   "metadata": {},
   "outputs": [
    {
     "data": {
      "text/html": [
       "<table>\n",
       "<thead><tr><th scope=col>Date</th><th scope=col>Carpentry</th><th scope=col>Helper</th><th scope=col>Instructor</th><th scope=col>Organizer.Instructor</th><th scope=col>Organizer</th></tr></thead>\n",
       "<tbody>\n",
       "\t<tr><td>2014-07-24</td><td>Data      </td><td>1         </td><td>0         </td><td>0         </td><td>0         </td></tr>\n",
       "\t<tr><td>2014-09-29</td><td>Data      </td><td>0         </td><td>1         </td><td>0         </td><td>0         </td></tr>\n",
       "\t<tr><td>2015-04-02</td><td>Software  </td><td>0         </td><td>1         </td><td>0         </td><td>0         </td></tr>\n",
       "</tbody>\n",
       "</table>\n"
      ],
      "text/latex": [
       "\\begin{tabular}{r|llllll}\n",
       " Date & Carpentry & Helper & Instructor & Organizer.Instructor & Organizer\\\\\n",
       "\\hline\n",
       "\t 2014-07-24 & Data       & 1          & 0          & 0          & 0         \\\\\n",
       "\t 2014-09-29 & Data       & 0          & 1          & 0          & 0         \\\\\n",
       "\t 2015-04-02 & Software   & 0          & 1          & 0          & 0         \\\\\n",
       "\\end{tabular}\n"
      ],
      "text/markdown": [
       "\n",
       "Date | Carpentry | Helper | Instructor | Organizer.Instructor | Organizer | \n",
       "|---|---|---|\n",
       "| 2014-07-24 | Data       | 1          | 0          | 0          | 0          | \n",
       "| 2014-09-29 | Data       | 0          | 1          | 0          | 0          | \n",
       "| 2015-04-02 | Software   | 0          | 1          | 0          | 0          | \n",
       "\n",
       "\n"
      ],
      "text/plain": [
       "  Date       Carpentry Helper Instructor Organizer.Instructor Organizer\n",
       "1 2014-07-24 Data      1      0          0                    0        \n",
       "2 2014-09-29 Data      0      1          0                    0        \n",
       "3 2015-04-02 Software  0      1          0                    0        "
      ]
     },
     "metadata": {},
     "output_type": "display_data"
    }
   ],
   "source": [
    "activity = read.csv(\"../_data/carp_activity.csv\", header=TRUE, stringsAsFactors=FALSE)\n",
    "head(activity, 3)"
   ]
  },
  {
   "cell_type": "code",
   "execution_count": null,
   "metadata": {
    "collapsed": true
   },
   "outputs": [],
   "source": []
  },
  {
   "cell_type": "code",
   "execution_count": 32,
   "metadata": {
    "collapsed": true
   },
   "outputs": [],
   "source": [
    "#activity$helper_cs = cumsum(activity$helper)\n",
    "#activity$instructor_cs = cumsum(activity$instructor)\n",
    "#activity$org_inst_cs = cumsum(activity$org_inst)\n",
    "#activity$organizer_cs = cumsum(activity$organizer)"
   ]
  },
  {
   "cell_type": "code",
   "execution_count": 33,
   "metadata": {},
   "outputs": [
    {
     "data": {
      "text/html": [
       "<table>\n",
       "<thead><tr><th scope=col>Date</th><th scope=col>Type</th><th scope=col>Helper</th><th scope=col>Instructor</th><th scope=col>Organizer_Instructor</th><th scope=col>Organizer</th></tr></thead>\n",
       "<tbody>\n",
       "\t<tr><td>2014-07-24</td><td>Data      </td><td>1         </td><td>0         </td><td>0         </td><td>0         </td></tr>\n",
       "\t<tr><td>2014-09-29</td><td>Data      </td><td>1         </td><td>1         </td><td>0         </td><td>0         </td></tr>\n",
       "</tbody>\n",
       "</table>\n"
      ],
      "text/latex": [
       "\\begin{tabular}{r|llllll}\n",
       " Date & Type & Helper & Instructor & Organizer\\_Instructor & Organizer\\\\\n",
       "\\hline\n",
       "\t 2014-07-24 & Data       & 1          & 0          & 0          & 0         \\\\\n",
       "\t 2014-09-29 & Data       & 1          & 1          & 0          & 0         \\\\\n",
       "\\end{tabular}\n"
      ],
      "text/markdown": [
       "\n",
       "Date | Type | Helper | Instructor | Organizer_Instructor | Organizer | \n",
       "|---|---|\n",
       "| 2014-07-24 | Data       | 1          | 0          | 0          | 0          | \n",
       "| 2014-09-29 | Data       | 1          | 1          | 0          | 0          | \n",
       "\n",
       "\n"
      ],
      "text/plain": [
       "  Date       Type Helper Instructor Organizer_Instructor Organizer\n",
       "1 2014-07-24 Data 1      0          0                    0        \n",
       "2 2014-09-29 Data 1      1          0                    0        "
      ]
     },
     "metadata": {},
     "output_type": "display_data"
    }
   ],
   "source": [
    "cumulative_activity = data.frame(Date=as.Date(activity$Date), \n",
    "                                Type=activity$Carpentry, \n",
    "                                Helper=cumsum(activity$Helper),\n",
    "                                Instructor=cumsum(activity$Instructor),\n",
    "                                Organizer_Instructor=cumsum(activity$Organizer.Instructor),\n",
    "                                Organizer=cumsum(activity$Organizer)\n",
    "                                )\n",
    "head(cumulative_activity, 2)"
   ]
  },
  {
   "cell_type": "code",
   "execution_count": 38,
   "metadata": {},
   "outputs": [
    {
     "data": {
      "text/html": [
       "<table>\n",
       "<thead><tr><th></th><th scope=col>Date</th><th scope=col>Type</th><th scope=col>Role</th><th scope=col>Total</th></tr></thead>\n",
       "<tbody>\n",
       "\t<tr><th scope=row>48</th><td>2017-05-22          </td><td>Instructor          </td><td>Organizer_Instructor</td><td>3                   </td></tr>\n",
       "\t<tr><th scope=row>49</th><td>2017-05-25          </td><td>Software            </td><td>Organizer_Instructor</td><td>4                   </td></tr>\n",
       "\t<tr><th scope=row>50</th><td>2017-06-29          </td><td>Data                </td><td>Organizer_Instructor</td><td>4                   </td></tr>\n",
       "\t<tr><th scope=row>51</th><td>2017-08-14          </td><td>Software            </td><td>Organizer_Instructor</td><td>5                   </td></tr>\n",
       "\t<tr><th scope=row>52</th><td>2017-08-15          </td><td>Data                </td><td>Organizer_Instructor</td><td>5                   </td></tr>\n",
       "\t<tr><th scope=row>53</th><td>2017-09-30          </td><td>Data                </td><td>Organizer_Instructor</td><td>6                   </td></tr>\n",
       "\t<tr><th scope=row>54</th><td>2017-10-30          </td><td>Data                </td><td>Organizer_Instructor</td><td>7                   </td></tr>\n",
       "\t<tr><th scope=row>55</th><td>2014-07-24          </td><td>Data                </td><td>Organizer           </td><td>0                   </td></tr>\n",
       "\t<tr><th scope=row>56</th><td>2014-09-29          </td><td>Data                </td><td>Organizer           </td><td>0                   </td></tr>\n",
       "\t<tr><th scope=row>57</th><td>2015-04-02          </td><td>Software            </td><td>Organizer           </td><td>0                   </td></tr>\n",
       "\t<tr><th scope=row>58</th><td>2015-05-04          </td><td>Software            </td><td>Organizer           </td><td>0                   </td></tr>\n",
       "\t<tr><th scope=row>59</th><td>2015-09-23          </td><td>Data                </td><td>Organizer           </td><td>0                   </td></tr>\n",
       "\t<tr><th scope=row>60</th><td>2016-01-21          </td><td>Instructor          </td><td>Organizer           </td><td>0                   </td></tr>\n",
       "\t<tr><th scope=row>61</th><td>2016-05-23          </td><td>Software            </td><td>Organizer           </td><td>0                   </td></tr>\n",
       "\t<tr><th scope=row>62</th><td>2016-08-17          </td><td>Software            </td><td>Organizer           </td><td>0                   </td></tr>\n",
       "\t<tr><th scope=row>63</th><td>2016-10-17          </td><td>Data                </td><td>Organizer           </td><td>1                   </td></tr>\n",
       "\t<tr><th scope=row>64</th><td>2016-12-03          </td><td>Software            </td><td>Organizer           </td><td>1                   </td></tr>\n",
       "\t<tr><th scope=row>65</th><td>2017-02-26          </td><td>Software            </td><td>Organizer           </td><td>1                   </td></tr>\n",
       "\t<tr><th scope=row>66</th><td>2017-05-22          </td><td>Instructor          </td><td>Organizer           </td><td>1                   </td></tr>\n",
       "\t<tr><th scope=row>67</th><td>2017-05-25          </td><td>Software            </td><td>Organizer           </td><td>1                   </td></tr>\n",
       "\t<tr><th scope=row>68</th><td>2017-06-29          </td><td>Data                </td><td>Organizer           </td><td>1                   </td></tr>\n",
       "\t<tr><th scope=row>69</th><td>2017-08-14          </td><td>Software            </td><td>Organizer           </td><td>1                   </td></tr>\n",
       "\t<tr><th scope=row>70</th><td>2017-08-15          </td><td>Data                </td><td>Organizer           </td><td>2                   </td></tr>\n",
       "\t<tr><th scope=row>71</th><td>2017-09-30          </td><td>Data                </td><td>Organizer           </td><td>2                   </td></tr>\n",
       "\t<tr><th scope=row>72</th><td>2017-10-30          </td><td>Data                </td><td>Organizer           </td><td>2                   </td></tr>\n",
       "</tbody>\n",
       "</table>\n"
      ],
      "text/latex": [
       "\\begin{tabular}{r|llll}\n",
       "  & Date & Type & Role & Total\\\\\n",
       "\\hline\n",
       "\t48 & 2017-05-22             & Instructor             & Organizer\\_Instructor & 3                     \\\\\n",
       "\t49 & 2017-05-25             & Software               & Organizer\\_Instructor & 4                     \\\\\n",
       "\t50 & 2017-06-29             & Data                   & Organizer\\_Instructor & 4                     \\\\\n",
       "\t51 & 2017-08-14             & Software               & Organizer\\_Instructor & 5                     \\\\\n",
       "\t52 & 2017-08-15             & Data                   & Organizer\\_Instructor & 5                     \\\\\n",
       "\t53 & 2017-09-30             & Data                   & Organizer\\_Instructor & 6                     \\\\\n",
       "\t54 & 2017-10-30             & Data                   & Organizer\\_Instructor & 7                     \\\\\n",
       "\t55 & 2014-07-24           & Data                 & Organizer            & 0                   \\\\\n",
       "\t56 & 2014-09-29           & Data                 & Organizer            & 0                   \\\\\n",
       "\t57 & 2015-04-02           & Software             & Organizer            & 0                   \\\\\n",
       "\t58 & 2015-05-04           & Software             & Organizer            & 0                   \\\\\n",
       "\t59 & 2015-09-23           & Data                 & Organizer            & 0                   \\\\\n",
       "\t60 & 2016-01-21           & Instructor           & Organizer            & 0                   \\\\\n",
       "\t61 & 2016-05-23           & Software             & Organizer            & 0                   \\\\\n",
       "\t62 & 2016-08-17           & Software             & Organizer            & 0                   \\\\\n",
       "\t63 & 2016-10-17           & Data                 & Organizer            & 1                   \\\\\n",
       "\t64 & 2016-12-03           & Software             & Organizer            & 1                   \\\\\n",
       "\t65 & 2017-02-26           & Software             & Organizer            & 1                   \\\\\n",
       "\t66 & 2017-05-22           & Instructor           & Organizer            & 1                   \\\\\n",
       "\t67 & 2017-05-25           & Software             & Organizer            & 1                   \\\\\n",
       "\t68 & 2017-06-29           & Data                 & Organizer            & 1                   \\\\\n",
       "\t69 & 2017-08-14           & Software             & Organizer            & 1                   \\\\\n",
       "\t70 & 2017-08-15           & Data                 & Organizer            & 2                   \\\\\n",
       "\t71 & 2017-09-30           & Data                 & Organizer            & 2                   \\\\\n",
       "\t72 & 2017-10-30           & Data                 & Organizer            & 2                   \\\\\n",
       "\\end{tabular}\n"
      ],
      "text/markdown": [
       "\n",
       "| <!--/--> | Date | Type | Role | Total | \n",
       "|---|---|---|---|---|---|---|---|---|---|---|---|---|---|---|---|---|---|---|---|---|---|---|---|---|\n",
       "| 48 | 2017-05-22           | Instructor           | Organizer_Instructor | 3                    | \n",
       "| 49 | 2017-05-25           | Software             | Organizer_Instructor | 4                    | \n",
       "| 50 | 2017-06-29           | Data                 | Organizer_Instructor | 4                    | \n",
       "| 51 | 2017-08-14           | Software             | Organizer_Instructor | 5                    | \n",
       "| 52 | 2017-08-15           | Data                 | Organizer_Instructor | 5                    | \n",
       "| 53 | 2017-09-30           | Data                 | Organizer_Instructor | 6                    | \n",
       "| 54 | 2017-10-30           | Data                 | Organizer_Instructor | 7                    | \n",
       "| 55 | 2014-07-24           | Data                 | Organizer            | 0                    | \n",
       "| 56 | 2014-09-29           | Data                 | Organizer            | 0                    | \n",
       "| 57 | 2015-04-02           | Software             | Organizer            | 0                    | \n",
       "| 58 | 2015-05-04           | Software             | Organizer            | 0                    | \n",
       "| 59 | 2015-09-23           | Data                 | Organizer            | 0                    | \n",
       "| 60 | 2016-01-21           | Instructor           | Organizer            | 0                    | \n",
       "| 61 | 2016-05-23           | Software             | Organizer            | 0                    | \n",
       "| 62 | 2016-08-17           | Software             | Organizer            | 0                    | \n",
       "| 63 | 2016-10-17           | Data                 | Organizer            | 1                    | \n",
       "| 64 | 2016-12-03           | Software             | Organizer            | 1                    | \n",
       "| 65 | 2017-02-26           | Software             | Organizer            | 1                    | \n",
       "| 66 | 2017-05-22           | Instructor           | Organizer            | 1                    | \n",
       "| 67 | 2017-05-25           | Software             | Organizer            | 1                    | \n",
       "| 68 | 2017-06-29           | Data                 | Organizer            | 1                    | \n",
       "| 69 | 2017-08-14           | Software             | Organizer            | 1                    | \n",
       "| 70 | 2017-08-15           | Data                 | Organizer            | 2                    | \n",
       "| 71 | 2017-09-30           | Data                 | Organizer            | 2                    | \n",
       "| 72 | 2017-10-30           | Data                 | Organizer            | 2                    | \n",
       "\n",
       "\n"
      ],
      "text/plain": [
       "   Date       Type       Role                 Total\n",
       "48 2017-05-22 Instructor Organizer_Instructor 3    \n",
       "49 2017-05-25 Software   Organizer_Instructor 4    \n",
       "50 2017-06-29 Data       Organizer_Instructor 4    \n",
       "51 2017-08-14 Software   Organizer_Instructor 5    \n",
       "52 2017-08-15 Data       Organizer_Instructor 5    \n",
       "53 2017-09-30 Data       Organizer_Instructor 6    \n",
       "54 2017-10-30 Data       Organizer_Instructor 7    \n",
       "55 2014-07-24 Data       Organizer            0    \n",
       "56 2014-09-29 Data       Organizer            0    \n",
       "57 2015-04-02 Software   Organizer            0    \n",
       "58 2015-05-04 Software   Organizer            0    \n",
       "59 2015-09-23 Data       Organizer            0    \n",
       "60 2016-01-21 Instructor Organizer            0    \n",
       "61 2016-05-23 Software   Organizer            0    \n",
       "62 2016-08-17 Software   Organizer            0    \n",
       "63 2016-10-17 Data       Organizer            1    \n",
       "64 2016-12-03 Software   Organizer            1    \n",
       "65 2017-02-26 Software   Organizer            1    \n",
       "66 2017-05-22 Instructor Organizer            1    \n",
       "67 2017-05-25 Software   Organizer            1    \n",
       "68 2017-06-29 Data       Organizer            1    \n",
       "69 2017-08-14 Software   Organizer            1    \n",
       "70 2017-08-15 Data       Organizer            2    \n",
       "71 2017-09-30 Data       Organizer            2    \n",
       "72 2017-10-30 Data       Organizer            2    "
      ]
     },
     "metadata": {},
     "output_type": "display_data"
    }
   ],
   "source": [
    "activity_long = gather(cumulative_activity, Role, Total, Helper:Organizer)\n",
    "tail(activity_long, 25)"
   ]
  },
  {
   "cell_type": "code",
   "execution_count": 35,
   "metadata": {},
   "outputs": [
    {
     "name": "stdout",
     "output_type": "stream",
     "text": [
      "'data.frame':\t18 obs. of  6 variables:\n",
      " $ Date                : Date, format: \"2014-07-24\" \"2014-09-29\" ...\n",
      " $ Type                : Factor w/ 3 levels \"Data\",\"Instructor\",..: 1 1 3 3 1 2 3 3 1 3 ...\n",
      " $ Helper              : int  1 1 1 1 1 2 2 2 2 2 ...\n",
      " $ Instructor          : int  0 1 2 3 4 4 4 4 4 5 ...\n",
      " $ Organizer_Instructor: int  0 0 0 0 0 0 1 2 2 2 ...\n",
      " $ Organizer           : int  0 0 0 0 0 0 0 0 1 1 ...\n"
     ]
    }
   ],
   "source": [
    "str(cumulative_activity)"
   ]
  },
  {
   "cell_type": "code",
   "execution_count": 36,
   "metadata": {},
   "outputs": [
    {
     "name": "stdout",
     "output_type": "stream",
     "text": [
      "'data.frame':\t72 obs. of  4 variables:\n",
      " $ Date : Date, format: \"2014-07-24\" \"2014-09-29\" ...\n",
      " $ Type : Factor w/ 3 levels \"Data\",\"Instructor\",..: 1 1 3 3 1 2 3 3 1 3 ...\n",
      " $ Role : chr  \"Helper\" \"Helper\" \"Helper\" \"Helper\" ...\n",
      " $ Total: int  1 1 1 1 1 2 2 2 2 2 ...\n"
     ]
    }
   ],
   "source": [
    "str(activity_long)"
   ]
  },
  {
   "cell_type": "code",
   "execution_count": 43,
   "metadata": {},
   "outputs": [
    {
     "data": {
      "text/html": [
       "<ol class=list-inline>\n",
       "\t<li>133</li>\n",
       "\t<li>134</li>\n",
       "\t<li>136</li>\n",
       "\t<li>137</li>\n",
       "\t<li>139</li>\n",
       "\t<li>141</li>\n",
       "</ol>\n"
      ],
      "text/latex": [
       "\\begin{enumerate*}\n",
       "\\item 133\n",
       "\\item 134\n",
       "\\item 136\n",
       "\\item 137\n",
       "\\item 139\n",
       "\\item 141\n",
       "\\end{enumerate*}\n"
      ],
      "text/markdown": [
       "1. 133\n",
       "2. 134\n",
       "3. 136\n",
       "4. 137\n",
       "5. 139\n",
       "6. 141\n",
       "\n",
       "\n"
      ],
      "text/plain": [
       "[1] 133 134 136 137 139 141"
      ]
     },
     "metadata": {},
     "output_type": "display_data"
    }
   ],
   "source": [
    "activity_long$Role <- factor(activity_long$Role, \n",
    "                             levels=c(\"Organizer\", \"Organizer_Instructor\",\n",
    "                                      \"Instructor\", \"Helper\"))\n",
    "tail(order(activity_long))"
   ]
  },
  {
   "cell_type": "code",
   "execution_count": 53,
   "metadata": {},
   "outputs": [],
   "source": []
  },
  {
   "cell_type": "code",
   "execution_count": 79,
   "metadata": {
    "scrolled": false
   },
   "outputs": [],
   "source": [
    "p <- ggplot(activity_long[order(activity_long$Role),], \n",
    "            aes(x = Date, y = Total, fill=Role)) + \n",
    "  geom_area() +\n",
    "  scale_y_continuous(expand = c(0, 0)) +\n",
    "  scale_fill_brewer(palette=\"Greens\", direction=-1) + \n",
    "  ggtitle(\"Cumulative Carpentries Activities\") + \n",
    "  theme(plot.title = element_text(hjust = 0.5), \n",
    "        aspect.ratio=4/8)\n",
    "#print(p)"
   ]
  },
  {
   "cell_type": "code",
   "execution_count": 77,
   "metadata": {},
   "outputs": [],
   "source": [
    "ggsave(\"../carpentries_graph.png\", width = 8, height = 4, units = \"in\", dpi = 75)"
   ]
  }
 ],
 "metadata": {
  "kernelspec": {
   "display_name": "R",
   "language": "R",
   "name": "ir"
  },
  "language_info": {
   "codemirror_mode": "r",
   "file_extension": ".r",
   "mimetype": "text/x-r-source",
   "name": "R",
   "pygments_lexer": "r",
   "version": "3.4.2"
  }
 },
 "nbformat": 4,
 "nbformat_minor": 1
}
